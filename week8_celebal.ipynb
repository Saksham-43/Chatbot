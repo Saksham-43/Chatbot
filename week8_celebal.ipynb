{
 "cells": [
  {
   "cell_type": "code",
   "execution_count": 1,
   "id": "09987173-b501-458f-ada9-b10dad166229",
   "metadata": {},
   "outputs": [],
   "source": [
    "import pandas as pd\n",
    "from langchain_core.documents import Document\n",
    "from langchain_text_splitters import RecursiveCharacterTextSplitter\n",
    "from langchain_community.embeddings import HuggingFaceEmbeddings\n",
    "from langchain_community.vectorstores import FAISS\n",
    "from transformers import AutoTokenizer, AutoModelForSeq2SeqLM, pipeline\n",
    "from langchain_community.llms import HuggingFacePipeline\n",
    "from langchain.chains import RetrievalQA"
   ]
  },
  {
   "cell_type": "code",
   "execution_count": 2,
   "id": "02f00bdd-90e0-43e0-9143-af3f59c2591d",
   "metadata": {},
   "outputs": [],
   "source": [
    "# === Load the Dataset\n",
    "df = pd.read_csv(\"C:\\\\Users\\\\Saksham Kaushik\\\\Downloads\\\\Training Dataset.csv\")"
   ]
  },
  {
   "cell_type": "code",
   "execution_count": 3,
   "id": "f379200f-2448-40f2-8230-94390ef47d4f",
   "metadata": {},
   "outputs": [],
   "source": [
    "# ===  Convert Rows to Text Documents ===\n",
    "documents = []\n",
    "for idx, row in df.iterrows():\n",
    "    content = (\n",
    "        f\"Loan Application:\\n\"\n",
    "        f\"- Gender: {row['Gender']}\\n\"\n",
    "        f\"- Married: {row['Married']}\\n\"\n",
    "        f\"- Dependents: {row['Dependents']}\\n\"\n",
    "        f\"- Education: {row['Education']}\\n\"\n",
    "        f\"- Self Employed: {row['Self_Employed']}\\n\"\n",
    "        f\"- Income: {row['ApplicantIncome']} + {row['CoapplicantIncome']}\\n\"\n",
    "        f\"- Loan Amount: {row['LoanAmount']}\\n\"\n",
    "        f\"- Term: {row['Loan_Amount_Term']}\\n\"\n",
    "        f\"- Credit History: {row['Credit_History']}\\n\"\n",
    "        f\"- Property Area: {row['Property_Area']}\\n\"\n",
    "        f\"- Loan Status: {'Approved' if row['Loan_Status'] == 'Y' else 'Rejected'}\"\n",
    "    )\n",
    "    documents.append(Document(page_content=content))"
   ]
  },
  {
   "cell_type": "code",
   "execution_count": 4,
   "id": "16e54fff-febc-44c4-a1a0-70dd0e9c627f",
   "metadata": {},
   "outputs": [],
   "source": [
    "# === Split Text ===\n",
    "splitter = RecursiveCharacterTextSplitter(chunk_size=500, chunk_overlap=50)\n",
    "docs = splitter.split_documents(documents)"
   ]
  },
  {
   "cell_type": "code",
   "execution_count": 5,
   "id": "db13823c-fcea-495e-ab73-f29e607eeeb9",
   "metadata": {},
   "outputs": [
    {
     "name": "stderr",
     "output_type": "stream",
     "text": [
      "C:\\Users\\Saksham Kaushik\\AppData\\Local\\Temp\\ipykernel_13552\\2010665016.py:2: LangChainDeprecationWarning: The class `HuggingFaceEmbeddings` was deprecated in LangChain 0.2.2 and will be removed in 1.0. An updated version of the class exists in the :class:`~langchain-huggingface package and should be used instead. To use it run `pip install -U :class:`~langchain-huggingface` and import as `from :class:`~langchain_huggingface import HuggingFaceEmbeddings``.\n",
      "  embedding = HuggingFaceEmbeddings(model_name=\"all-MiniLM-L6-v2\")\n"
     ]
    }
   ],
   "source": [
    "# === Embed + Store in FAISS ===\n",
    "embedding = HuggingFaceEmbeddings(model_name=\"all-MiniLM-L6-v2\")\n",
    "vectorstore = FAISS.from_documents(docs, embedding)"
   ]
  },
  {
   "cell_type": "code",
   "execution_count": 6,
   "id": "b9fd7228-ff8a-4fe2-9220-021642a8938a",
   "metadata": {},
   "outputs": [
    {
     "name": "stderr",
     "output_type": "stream",
     "text": [
      "Device set to use cpu\n",
      "C:\\Users\\Saksham Kaushik\\AppData\\Local\\Temp\\ipykernel_13552\\2898799704.py:6: LangChainDeprecationWarning: The class `HuggingFacePipeline` was deprecated in LangChain 0.0.37 and will be removed in 1.0. An updated version of the class exists in the :class:`~langchain-huggingface package and should be used instead. To use it run `pip install -U :class:`~langchain-huggingface` and import as `from :class:`~langchain_huggingface import HuggingFacePipeline``.\n",
      "  llm = HuggingFacePipeline(pipeline=pipe)\n"
     ]
    }
   ],
   "source": [
    "# === Load HuggingFace Language Model ===\n",
    "model_name = \"google/flan-t5-small\"\n",
    "tokenizer = AutoTokenizer.from_pretrained(model_name)\n",
    "model = AutoModelForSeq2SeqLM.from_pretrained(model_name)\n",
    "pipe = pipeline(\"text2text-generation\", model=model, tokenizer=tokenizer, max_length=256)\n",
    "llm = HuggingFacePipeline(pipeline=pipe)"
   ]
  },
  {
   "cell_type": "code",
   "execution_count": 7,
   "id": "e2a35a47-b431-46f4-8487-621a9e236ca6",
   "metadata": {},
   "outputs": [],
   "source": [
    "# === Build the Retrieval-Augmented Generation Chain ===\n",
    "retriever = vectorstore.as_retriever()\n",
    "rag_chain = RetrievalQA.from_chain_type(llm=llm, retriever=retriever)"
   ]
  },
  {
   "cell_type": "code",
   "execution_count": 9,
   "id": "19c5fcf6-0422-4e24-8f78-7219f06dc043",
   "metadata": {},
   "outputs": [
    {
     "name": "stdout",
     "output_type": "stream",
     "text": [
      "💬 RAG Q&A Chatbot is ready! Ask about the loan data (type 'exit' to quit).\n"
     ]
    },
    {
     "name": "stdin",
     "output_type": "stream",
     "text": [
      "\n",
      "You:  What is the loan status of the applicant with high income?\n"
     ]
    },
    {
     "name": "stdout",
     "output_type": "stream",
     "text": [
      "🤖 Answer: No - Education: Graduate - Self Employed - No - Income: 8300 + 0.0 - Loan Amount: 152.0 - Term: 300.0 - Credit History: 0.0 - Property Area: Semiurban - Loan Status: Rejected\n"
     ]
    },
    {
     "name": "stdin",
     "output_type": "stream",
     "text": [
      "\n",
      "You:  exit\n"
     ]
    },
    {
     "name": "stdout",
     "output_type": "stream",
     "text": [
      "Have a nice day!\n"
     ]
    }
   ],
   "source": [
    "# === Chat Interface ===\n",
    "print(\"💬 RAG Q&A Chatbot is ready! Ask about the loan data (type 'exit' to quit).\")\n",
    "while True:\n",
    "    query = input(\"\\nYou: \")\n",
    "    if query.lower() in [\"exit\", \"quit\"]:\n",
    "        print(\"Have a nice day!\")\n",
    "        break\n",
    "    result = rag_chain.run(query)\n",
    "    print(\"🤖 Answer:\", result)"
   ]
  },
  {
   "cell_type": "code",
   "execution_count": null,
   "id": "3b029aee-405f-44d0-bf15-5753926317f2",
   "metadata": {},
   "outputs": [],
   "source": []
  }
 ],
 "metadata": {
  "kernelspec": {
   "display_name": "Python 3 (ipykernel)",
   "language": "python",
   "name": "python3"
  },
  "language_info": {
   "codemirror_mode": {
    "name": "ipython",
    "version": 3
   },
   "file_extension": ".py",
   "mimetype": "text/x-python",
   "name": "python",
   "nbconvert_exporter": "python",
   "pygments_lexer": "ipython3",
   "version": "3.13.0"
  }
 },
 "nbformat": 4,
 "nbformat_minor": 5
}
